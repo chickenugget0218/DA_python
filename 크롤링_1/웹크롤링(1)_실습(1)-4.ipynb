{
 "cells": [
  {
   "cell_type": "markdown",
   "id": "289a8652-5f10-4955-bb29-29672b95e392",
   "metadata": {},
   "source": [
    "## csv "
   ]
  },
  {
   "cell_type": "code",
   "execution_count": 1,
   "id": "391b4d0a-18b4-4ddb-8e39-733196a2bab6",
   "metadata": {},
   "outputs": [],
   "source": [
    "import csv"
   ]
  },
  {
   "cell_type": "code",
   "execution_count": 2,
   "id": "7169bd43-6992-402d-9a3f-f2158ef53ebd",
   "metadata": {},
   "outputs": [],
   "source": [
    "# file open, newline=''으로 개행문자 지정\n",
    "with open('top_cities.csv', 'w', newline='') as f:\n",
    "    # csv.writer는 파일 객체를 매개변수로 지정\n",
    "    writer = csv.writer(f)  \n",
    "    # 첫 번째 줄에는 헤더를 작성합니다.\n",
    "    writer.writerow(['rank', 'city', 'population'])  \n",
    "    # writerows()에 리스트를 전달하면 여러 개의 값을 출력\n",
    "    writer.writerows([\n",
    "        [1, '상하이', 24150000],\n",
    "        [2, '카라치', 23500000],\n",
    "        [3, '베이징', 21516000],\n",
    "        [4, '텐진', 14722100],\n",
    "        [5, '이스탄불', 14160467],\n",
    "    ])"
   ]
  },
  {
   "cell_type": "markdown",
   "id": "80b90c00-5bf6-4c2b-8a9b-765bf1eac2db",
   "metadata": {},
   "source": [
    "## save_csv_dict"
   ]
  },
  {
   "cell_type": "code",
   "execution_count": 3,
   "id": "56366a23-a009-4760-bbcd-72adc3c04bf2",
   "metadata": {},
   "outputs": [],
   "source": [
    "with open('top_cities.csv', 'w', newline='', encoding='utf-8') as f:\n",
    "    # 첫 번째 매개변수에 파일 객체\n",
    "    # 두 번째 매개변수에 필드명 리스트를 지정\n",
    "    writer = csv.DictWriter(f, ['rank', 'city', 'population'])\n",
    "      # 첫 번째 줄에 헤더를 입력\n",
    "    writer.writeheader()\n",
    "    # writerows()로 여러 개의 데이터를 딕셔너리 형태로 작성\n",
    "    writer.writerows([\n",
    "        {'rank': 1, 'city': '상하이', 'population': 24150000},\n",
    "        {'rank': 2, 'city': '카라치', 'population': 23500000},\n",
    "        {'rank': 3, 'city': '베이징', 'population': 21516000},\n",
    "        {'rank': 4, 'city': '텐진', 'population': 14722100},\n",
    "        {'rank': 5, 'city': '이스탄불', 'population': 14160467},\n",
    "    ])"
   ]
  },
  {
   "cell_type": "markdown",
   "id": "da0279cf-b8f8-443e-8010-4e0c106bb143",
   "metadata": {},
   "source": [
    "## encoding_check"
   ]
  },
  {
   "cell_type": "code",
   "execution_count": 4,
   "id": "0680ce44-3da9-4112-8054-c34a404e107b",
   "metadata": {},
   "outputs": [],
   "source": [
    "import csv"
   ]
  },
  {
   "cell_type": "code",
   "execution_count": 5,
   "id": "c520c88b-13ba-453c-bd56-cd1c6dabe5cd",
   "metadata": {},
   "outputs": [],
   "source": [
    "with open('top_cities.csv', 'w', newline='', encoding='utf-8') as f:\n",
    "    # 첫 번째 매개변수에 파일 객체\n",
    "    # 두 번째 매개변수에 필드명 리스트를 지정\n",
    "    writer = csv.DictWriter(f, ['rank', 'city', 'population'])\n",
    "      # 첫 번째 줄에 헤더를 입력\n",
    "    writer.writeheader()\n",
    "    # writerows()로 여러 개의 데이터를 딕셔너리 형태로 작성\n",
    "    writer.writerows([\n",
    "        {'rank': 1, 'city': '상하이', 'population': 24150000},\n",
    "        {'rank': 2, 'city': '카라치', 'population': 23500000},\n",
    "        {'rank': 3, 'city': '베이징', 'population': 21516000},\n",
    "        {'rank': 4, 'city': '텐진', 'population': 14722100},\n",
    "        {'rank': 5, 'city': '이스탄불', 'population': 14160467},\n",
    "    ])"
   ]
  },
  {
   "cell_type": "code",
   "execution_count": 6,
   "id": "c5b82043-ce73-481d-9d33-20b8a84a23d2",
   "metadata": {},
   "outputs": [],
   "source": [
    "import chardet"
   ]
  },
  {
   "cell_type": "code",
   "execution_count": 7,
   "id": "a817f11a-6ca7-40a1-9b74-5c0a669e1177",
   "metadata": {},
   "outputs": [],
   "source": [
    "char_dic = chardet.detect(open('top_cities.csv','rb').read())"
   ]
  },
  {
   "cell_type": "code",
   "execution_count": 8,
   "id": "eaa9253d-99df-4fc3-acce-e7cf1534b809",
   "metadata": {},
   "outputs": [
    {
     "data": {
      "text/plain": [
       "'utf-8'"
      ]
     },
     "execution_count": 8,
     "metadata": {},
     "output_type": "execute_result"
    }
   ],
   "source": [
    "char_dic['encoding']"
   ]
  },
  {
   "cell_type": "markdown",
   "id": "99cab466-ae74-4dfb-91cf-6d5475ba7259",
   "metadata": {},
   "source": [
    "## save_json"
   ]
  },
  {
   "cell_type": "code",
   "execution_count": 9,
   "id": "1be4b2f1-5964-47ce-b548-4066dafb122b",
   "metadata": {},
   "outputs": [],
   "source": [
    "import json"
   ]
  },
  {
   "cell_type": "code",
   "execution_count": 10,
   "id": "ac6921f6-9cbf-4596-8de7-655bd5224352",
   "metadata": {},
   "outputs": [],
   "source": [
    "cities = [ \n",
    "{'rank': 1, 'city':'상하이', 'population': 24150000},\n",
    "{'rank': 2, 'city':'카라치', 'population': 23500000},\n",
    "{'rank': 3, 'city':'베이징', 'population': 21516000},\n",
    "{'rank': 4, 'city':'텐진', 'population': 14722100}, \n",
    "{'rank': 5, 'city':'이스탄불', 'population':14160467},\n",
    "]"
   ]
  },
  {
   "cell_type": "code",
   "execution_count": 11,
   "id": "7d723b34-5b0c-4253-90dc-8261cd0b7e9e",
   "metadata": {},
   "outputs": [],
   "source": [
    "with open('top_cities.json','w') as fw:\n",
    "    json.dump(cities, fw)"
   ]
  },
  {
   "cell_type": "code",
   "execution_count": 12,
   "id": "f8220b5e-f9c5-45ab-a9fc-368e9b23dd63",
   "metadata": {},
   "outputs": [
    {
     "name": "stdout",
     "output_type": "stream",
     "text": [
      "[{'rank': 1, 'city': '상하이', 'population': 24150000}, {'rank': 2, 'city': '카라치', 'population': 23500000}, {'rank': 3, 'city': '베이징', 'population': 21516000}, {'rank': 4, 'city': '텐진', 'population': 14722100}, {'rank': 5, 'city': '이스탄불', 'population': 14160467}]\n"
     ]
    }
   ],
   "source": [
    "with open('top_cities.json','r') as fr:\n",
    "    json_file = json.load(fr)\n",
    "    print(json_file)"
   ]
  },
  {
   "cell_type": "markdown",
   "id": "7dc0c087-8324-43ae-a761-3cb2204ac8a8",
   "metadata": {},
   "source": [
    "## save_sqlite3"
   ]
  },
  {
   "cell_type": "code",
   "execution_count": 13,
   "id": "ce0cad93-0ccd-410d-aa40-df3de94cbf39",
   "metadata": {},
   "outputs": [],
   "source": [
    "import pandas as pd\n",
    "import sqlite3\n",
    "from pandas.io import sql\n",
    "import os"
   ]
  },
  {
   "cell_type": "code",
   "execution_count": 14,
   "id": "1d53cd5b-672a-4de1-97a8-7221c2afd9d4",
   "metadata": {},
   "outputs": [],
   "source": [
    "DB_NAME = 'top_cities.db'\n",
    "TABLE_NAME ='TOP_CITIES'"
   ]
  },
  {
   "cell_type": "code",
   "execution_count": 15,
   "id": "340a152f-9238-409e-8962-9c637673b5de",
   "metadata": {},
   "outputs": [],
   "source": [
    "def db_save(df, db_name, table_name):\n",
    "    with sqlite3.connect(db_name) as con:\n",
    "        try:\n",
    "            df.to_sql(name = table_name, con = con, index=False, if_exists='append')\n",
    "        except Exception as e:\n",
    "            print(str(e))\n",
    "        print(len(df), '건 저장완료..')"
   ]
  },
  {
   "cell_type": "code",
   "execution_count": 16,
   "id": "f6760623-f17c-49f0-b47b-c3c85876288b",
   "metadata": {},
   "outputs": [],
   "source": [
    "def db_select(df, db_name, table_name):\n",
    "    with sqlite3.connect(db_name) as con:\n",
    "        try:\n",
    "            query = 'SELECT * FROM {}'.format(table_name)\n",
    "            df = pd.read_sql(query, con= con)\n",
    "        except Exception as e:\n",
    "            print(str(e))\n",
    "            return df"
   ]
  },
  {
   "cell_type": "code",
   "execution_count": 17,
   "id": "1ba50759-a3c6-40ab-b207-5793b2005eb6",
   "metadata": {},
   "outputs": [],
   "source": [
    "def db_delete(df, db_name, table_name):\n",
    "    with sqlite3.connect(db_name) as con:\n",
    "        try:\n",
    "            cur = con.cursor()\n",
    "            query = 'DELETE FROM {}'.format(table_name)\n",
    "            cur.excute(sql)\n",
    "        except Exception as e:\n",
    "            print(str(e))"
   ]
  }
 ],
 "metadata": {
  "kernelspec": {
   "display_name": "Python 3 (ipykernel)",
   "language": "python",
   "name": "python3"
  },
  "language_info": {
   "codemirror_mode": {
    "name": "ipython",
    "version": 3
   },
   "file_extension": ".py",
   "mimetype": "text/x-python",
   "name": "python",
   "nbconvert_exporter": "python",
   "pygments_lexer": "ipython3",
   "version": "3.9.12"
  }
 },
 "nbformat": 4,
 "nbformat_minor": 5
}
