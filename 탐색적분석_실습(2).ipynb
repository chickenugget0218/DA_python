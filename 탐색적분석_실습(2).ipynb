{
 "cells": [
  {
   "cell_type": "code",
   "execution_count": 1,
   "id": "327362d1",
   "metadata": {},
   "outputs": [],
   "source": [
    "#기초통계 실습\n",
    "import pandas as pd\n",
    "import numpy as np"
   ]
  },
  {
   "cell_type": "code",
   "execution_count": 3,
   "id": "4818002e",
   "metadata": {},
   "outputs": [
    {
     "data": {
      "text/html": [
       "<div>\n",
       "<style scoped>\n",
       "    .dataframe tbody tr th:only-of-type {\n",
       "        vertical-align: middle;\n",
       "    }\n",
       "\n",
       "    .dataframe tbody tr th {\n",
       "        vertical-align: top;\n",
       "    }\n",
       "\n",
       "    .dataframe thead th {\n",
       "        text-align: right;\n",
       "    }\n",
       "</style>\n",
       "<table border=\"1\" class=\"dataframe\">\n",
       "  <thead>\n",
       "    <tr style=\"text-align: right;\">\n",
       "      <th></th>\n",
       "      <th>score1</th>\n",
       "      <th>score2</th>\n",
       "      <th>score3</th>\n",
       "      <th>weight</th>\n",
       "      <th>diff</th>\n",
       "      <th>place</th>\n",
       "    </tr>\n",
       "  </thead>\n",
       "  <tbody>\n",
       "    <tr>\n",
       "      <th>0</th>\n",
       "      <td>99</td>\n",
       "      <td>79</td>\n",
       "      <td>59.0</td>\n",
       "      <td>5.43</td>\n",
       "      <td>-2.1</td>\n",
       "      <td>A</td>\n",
       "    </tr>\n",
       "    <tr>\n",
       "      <th>1</th>\n",
       "      <td>65</td>\n",
       "      <td>85</td>\n",
       "      <td>NaN</td>\n",
       "      <td>0.12</td>\n",
       "      <td>5.0</td>\n",
       "      <td>B</td>\n",
       "    </tr>\n",
       "    <tr>\n",
       "      <th>2</th>\n",
       "      <td>79</td>\n",
       "      <td>79</td>\n",
       "      <td>39.0</td>\n",
       "      <td>10.44</td>\n",
       "      <td>2.0</td>\n",
       "      <td>A</td>\n",
       "    </tr>\n",
       "    <tr>\n",
       "      <th>3</th>\n",
       "      <td>94</td>\n",
       "      <td>93</td>\n",
       "      <td>NaN</td>\n",
       "      <td>9.33</td>\n",
       "      <td>-5.4</td>\n",
       "      <td>A</td>\n",
       "    </tr>\n",
       "    <tr>\n",
       "      <th>4</th>\n",
       "      <td>87</td>\n",
       "      <td>97</td>\n",
       "      <td>NaN</td>\n",
       "      <td>4.22</td>\n",
       "      <td>-3.3</td>\n",
       "      <td>B</td>\n",
       "    </tr>\n",
       "  </tbody>\n",
       "</table>\n",
       "</div>"
      ],
      "text/plain": [
       "   score1  score2  score3  weight  diff place\n",
       "0      99      79    59.0    5.43  -2.1     A\n",
       "1      65      85     NaN    0.12   5.0     B\n",
       "2      79      79    39.0   10.44   2.0     A\n",
       "3      94      93     NaN    9.33  -5.4     A\n",
       "4      87      97     NaN    4.22  -3.3     B"
      ]
     },
     "execution_count": 3,
     "metadata": {},
     "output_type": "execute_result"
    }
   ],
   "source": [
    "#data set \n",
    "data = pd.DataFrame(\n",
    "    {\"score1\": [99,65,79,94,87],\n",
    "     \"score2\": [79,85,79,93,97],\n",
    "     \"score3\": [59,np.nan,39,np.nan,np.nan],\n",
    "     \"weight\": [5.43,0.12,10.44,9.33,4.22],\n",
    "     \"diff\": [-2.1, 5, 2, -5.4, -3.3],\n",
    "     \"place\": [\"A\",\"B\",\"A\",\"A\",\"B\"]}\n",
    "    )\n",
    "data"
   ]
  },
  {
   "cell_type": "code",
   "execution_count": 4,
   "id": "7118496a",
   "metadata": {},
   "outputs": [
    {
     "name": "stdout",
     "output_type": "stream",
     "text": [
      "<class 'pandas.core.frame.DataFrame'>\n",
      "RangeIndex: 5 entries, 0 to 4\n",
      "Data columns (total 6 columns):\n",
      " #   Column  Non-Null Count  Dtype  \n",
      "---  ------  --------------  -----  \n",
      " 0   score1  5 non-null      int64  \n",
      " 1   score2  5 non-null      int64  \n",
      " 2   score3  2 non-null      float64\n",
      " 3   weight  5 non-null      float64\n",
      " 4   diff    5 non-null      float64\n",
      " 5   place   5 non-null      object \n",
      "dtypes: float64(3), int64(2), object(1)\n",
      "memory usage: 368.0+ bytes\n"
     ]
    }
   ],
   "source": [
    "#data info\n",
    "data.info()"
   ]
  },
  {
   "cell_type": "code",
   "execution_count": 5,
   "id": "7d1eb693",
   "metadata": {},
   "outputs": [
    {
     "data": {
      "text/html": [
       "<div>\n",
       "<style scoped>\n",
       "    .dataframe tbody tr th:only-of-type {\n",
       "        vertical-align: middle;\n",
       "    }\n",
       "\n",
       "    .dataframe tbody tr th {\n",
       "        vertical-align: top;\n",
       "    }\n",
       "\n",
       "    .dataframe thead th {\n",
       "        text-align: right;\n",
       "    }\n",
       "</style>\n",
       "<table border=\"1\" class=\"dataframe\">\n",
       "  <thead>\n",
       "    <tr style=\"text-align: right;\">\n",
       "      <th></th>\n",
       "      <th>place</th>\n",
       "    </tr>\n",
       "  </thead>\n",
       "  <tbody>\n",
       "    <tr>\n",
       "      <th>count</th>\n",
       "      <td>5</td>\n",
       "    </tr>\n",
       "    <tr>\n",
       "      <th>unique</th>\n",
       "      <td>2</td>\n",
       "    </tr>\n",
       "    <tr>\n",
       "      <th>top</th>\n",
       "      <td>A</td>\n",
       "    </tr>\n",
       "    <tr>\n",
       "      <th>freq</th>\n",
       "      <td>3</td>\n",
       "    </tr>\n",
       "  </tbody>\n",
       "</table>\n",
       "</div>"
      ],
      "text/plain": [
       "       place\n",
       "count      5\n",
       "unique     2\n",
       "top        A\n",
       "freq       3"
      ]
     },
     "execution_count": 5,
     "metadata": {},
     "output_type": "execute_result"
    }
   ],
   "source": [
    "#범주형 변수의 기술통계 정보 확인 ,object type\n",
    "data.describe(include = 'object')"
   ]
  },
  {
   "cell_type": "markdown",
   "id": "2b0e8b70",
   "metadata": {},
   "source": [
    "## 기술통계"
   ]
  },
  {
   "cell_type": "code",
   "execution_count": 7,
   "id": "c00b48ba",
   "metadata": {},
   "outputs": [
    {
     "name": "stdout",
     "output_type": "stream",
     "text": [
      "한 변수: 84.8\n",
      "전체:\n",
      "score1    84.800\n",
      "score2    86.600\n",
      "score3    49.000\n",
      "weight     5.908\n",
      "diff      -0.760\n",
      "dtype: float64\n"
     ]
    },
    {
     "name": "stderr",
     "output_type": "stream",
     "text": [
      "C:\\Users\\user\\AppData\\Local\\Temp\\ipykernel_1568\\3288533923.py:6: FutureWarning: Dropping of nuisance columns in DataFrame reductions (with 'numeric_only=None') is deprecated; in a future version this will raise TypeError.  Select only valid columns before calling the reduction.\n",
      "  print(data.mean())\n"
     ]
    }
   ],
   "source": [
    "# mean\n",
    "print(\"한 변수:\",data['score1'].mean())\n",
    "\n",
    "#df 전체평균\n",
    "print(\"전체:\")\n",
    "print(data.mean())"
   ]
  },
  {
   "cell_type": "code",
   "execution_count": 8,
   "id": "b3c6a1ba",
   "metadata": {},
   "outputs": [
    {
     "name": "stdout",
     "output_type": "stream",
     "text": [
      "86.6\n"
     ]
    }
   ],
   "source": [
    "#절사평균\n",
    "from scipy.stats import trim_mean\n",
    "print(trim_mean(data['score2'],0.1)) "
   ]
  },
  {
   "cell_type": "code",
   "execution_count": 9,
   "id": "499c33dc",
   "metadata": {},
   "outputs": [
    {
     "data": {
      "text/plain": [
       "86.01760324983074"
      ]
     },
     "execution_count": 9,
     "metadata": {},
     "output_type": "execute_result"
    }
   ],
   "source": [
    "#가중평균\n",
    "np.average(data['score2'], weights=data['weight'])"
   ]
  },
  {
   "cell_type": "code",
   "execution_count": 10,
   "id": "3b437e11",
   "metadata": {},
   "outputs": [
    {
     "name": "stdout",
     "output_type": "stream",
     "text": [
      "85.0\n"
     ]
    }
   ],
   "source": [
    "#중앙값 , 데이터개수 홀수\n",
    "print(data['score2'].median())"
   ]
  },
  {
   "cell_type": "code",
   "execution_count": 11,
   "id": "1b230624",
   "metadata": {},
   "outputs": [
    {
     "name": "stdout",
     "output_type": "stream",
     "text": [
      "300.0\n"
     ]
    }
   ],
   "source": [
    "#중앙값, 짝수\n",
    "x = [100,600,100,200,400,500]\n",
    "print(np.median(x))"
   ]
  },
  {
   "cell_type": "code",
   "execution_count": 12,
   "id": "f2af901a",
   "metadata": {},
   "outputs": [
    {
     "data": {
      "text/plain": [
       "0    79\n",
       "Name: score2, dtype: int64"
      ]
     },
     "execution_count": 12,
     "metadata": {},
     "output_type": "execute_result"
    }
   ],
   "source": [
    "#최빈값\n",
    "data['score2'].mode()"
   ]
  },
  {
   "cell_type": "code",
   "execution_count": 13,
   "id": "2e692540",
   "metadata": {},
   "outputs": [
    {
     "data": {
      "text/plain": [
       "18"
      ]
     },
     "execution_count": 13,
     "metadata": {},
     "output_type": "execute_result"
    }
   ],
   "source": [
    "#범위\n",
    "data['score2'].max() - data['score2'].min()"
   ]
  },
  {
   "cell_type": "code",
   "execution_count": 14,
   "id": "16f8ee30",
   "metadata": {},
   "outputs": [
    {
     "name": "stdout",
     "output_type": "stream",
     "text": [
      "66.8\n"
     ]
    }
   ],
   "source": [
    "#분산\n",
    "print(data['score2'].var())"
   ]
  },
  {
   "cell_type": "code",
   "execution_count": 15,
   "id": "73e05309",
   "metadata": {},
   "outputs": [
    {
     "name": "stdout",
     "output_type": "stream",
     "text": [
      "8.17312669668102\n"
     ]
    }
   ],
   "source": [
    "#표준편차\n",
    "print(data['score2'].std())"
   ]
  },
  {
   "cell_type": "code",
   "execution_count": 18,
   "id": "1d78f720",
   "metadata": {},
   "outputs": [
    {
     "name": "stdout",
     "output_type": "stream",
     "text": [
      "14.0\n"
     ]
    }
   ],
   "source": [
    "#사분위수 범위\n",
    "print(data['score2'].quantile(0.75) - data['score2'].quantile(0.25))"
   ]
  },
  {
   "cell_type": "code",
   "execution_count": 21,
   "id": "123acbc3",
   "metadata": {},
   "outputs": [
    {
     "name": "stdout",
     "output_type": "stream",
     "text": [
      "score1의 CV계수: 0.158\n",
      "score2의 CV계수: 0.094\n"
     ]
    }
   ],
   "source": [
    "#변동계수\n",
    "cv1 = data['score1'].std()/data['score1'].mean()\n",
    "cv2 = data['score2'].std()/data['score2'].mean()\n",
    "\n",
    "print('score1의 CV계수: {}'.format(np.round(cv1, 3)))\n",
    "print('score2의 CV계수: {}'.format(np.round(cv2, 3)))"
   ]
  },
  {
   "cell_type": "code",
   "execution_count": 33,
   "id": "f6d1451f",
   "metadata": {},
   "outputs": [],
   "source": [
    "#시각화 패키지\n",
    "%matplotlib inline\n",
    "import warnings\n",
    "warnings.simplefilter(action='ignore', category = FutureWarning)\n",
    "import matplotlib.pyplot as plt\n",
    "import seaborn as sns\n",
    "\n",
    "#한글깨짐\n",
    "import os\n",
    "if os.name == 'nt':\n",
    "    font_family = \"Malgun Gothic\"\n",
    "else:\n",
    "    font_family = \"AppleGothic\"\n",
    "\n",
    "#값이 깨지는 문제 해결위해 파라미터 설정\n",
    "sns.set(font=font_family, rc={\"axes.unicode_minus\": False})"
   ]
  },
  {
   "cell_type": "code",
   "execution_count": 34,
   "id": "31b641d0",
   "metadata": {},
   "outputs": [
    {
     "name": "stdout",
     "output_type": "stream",
     "text": [
      "1.6656293067949786\n",
      "-1.0422210554570965\n"
     ]
    }
   ],
   "source": [
    "#왜도 산출\n",
    "from scipy.stats import skew\n",
    "\n",
    "skew_list1 = [1,1,1,1,1,1,1,1,1,1,1,2,2,2,2,2,3,4,5]\n",
    "skew_list2 = [1,2,3,3,4,4,5,5,5,5,6,6,6,6,6,6,6,6]\n",
    "\n",
    "print(skew(skew_list1))\n",
    "print(skew(skew_list2))"
   ]
  },
  {
   "cell_type": "code",
   "execution_count": 38,
   "id": "7bd9fd3e",
   "metadata": {},
   "outputs": [
    {
     "data": {
      "image/png": "[encoded data removed]",
      "text/plain": [
       "<Figure size 864x432 with 2 Axes>"
      ]
     },
     "metadata": {},
     "output_type": "display_data"
    }
   ],
   "source": [
    "#왜도 시각화\n",
    "plt.figure(figsize=(12, 6))\n",
    "plt.subplot(1,2,1)\n",
    "dis_plot = sns.distplot(skew_list1)\n",
    "plt.title('우측 꼬리 분포, 왜도 > 0', fontsize=16)\n",
    "\n",
    "plt.subplot(1,2,2)\n",
    "dis_plot = sns.distplot(skew_list2)\n",
    "plt.title('우측 꼬리 분포, 왜도 < 0', fontsize=16)\n",
    "plt.show()"
   ]
  },
  {
   "cell_type": "code",
   "execution_count": 39,
   "id": "eab50690",
   "metadata": {},
   "outputs": [
    {
     "name": "stdout",
     "output_type": "stream",
     "text": [
      "-1.2242424242424244\n",
      "2.351887069895106\n"
     ]
    }
   ],
   "source": [
    "#첨도 산출\n",
    "from scipy.stats import kurtosis\n",
    "\n",
    "kur_list1 = [1,2,3,4,5,6,7,8,9,10]\n",
    "kur_list2 = [1,2,3,4,5,5,5,5,5,5,5,5,\n",
    "             5,5,5,5,5,5,5,5,5,5,5,5,\n",
    "             5,6,7,8,9,10]\n",
    "print(kurtosis(kur_list1))\n",
    "print(kurtosis(kur_list2))"
   ]
  },
  {
   "cell_type": "code",
   "execution_count": 40,
   "id": "074476c9",
   "metadata": {},
   "outputs": [
    {
     "data": {
      "image/png": "[encoded data removed]",
      "text/plain": [
       "<Figure size 1440x432 with 2 Axes>"
      ]
     },
     "metadata": {},
     "output_type": "display_data"
    }
   ],
   "source": [
    "#첨도 시각화\n",
    "plt.figure(figsize=(20,6))\n",
    "plt.subplot(1,2,1)\n",
    "dis_plot = sns.distplot(kur_list1)\n",
    "plt.title('첨도 < 1', fontsize =16)\n",
    "\n",
    "plt.subplot(1,2,2)\n",
    "dis_plot = sns.distplot(kur_list2)\n",
    "plt.title('첨도 > 1', fontsize =16)\n",
    "plt.show()"
   ]
  }
 ],
 "metadata": {
  "kernelspec": {
   "display_name": "Python 3 (ipykernel)",
   "language": "python",
   "name": "python3"
  },
  "language_info": {
   "codemirror_mode": {
    "name": "ipython",
    "version": 3
   },
   "file_extension": ".py",
   "mimetype": "text/x-python",
   "name": "python",
   "nbconvert_exporter": "python",
   "pygments_lexer": "ipython3",
   "version": "3.9.12"
  }
 },
 "nbformat": 4,
 "nbformat_minor": 5
}
