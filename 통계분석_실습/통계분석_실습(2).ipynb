{
 "cells": [
  {
   "cell_type": "markdown",
   "id": "305fc685-377a-4876-b7e3-152ab5cefe5d",
   "metadata": {},
   "source": [
    "## 이산확률분포"
   ]
  },
  {
   "cell_type": "code",
   "execution_count": 3,
   "id": "920ac2da-a900-4688-8fbc-51b584bb9df4",
   "metadata": {},
   "outputs": [],
   "source": [
    "import os\n",
    "import warnings \n",
    "warnings.simplefilter(action='ignore',category=FutureWarning)\n",
    "\n",
    "import pandas as pd\n",
    "import numpy as np\n",
    "from scipy import stats\n",
    "\n",
    "#시각화 패키지\n",
    "import matplotlib.pyplot as plt\n",
    "import seaborn as sns\n",
    "%matplotlib inline\n",
    "\n",
    "#os에 따른 깨짐 문제\n",
    "if os.name == 'nt':\n",
    "    font_family = \"Malgun Gothic\"\n",
    "else:\n",
    "    font_family =\"AppleGothic\"\n",
    "\n",
    "#값 깨지는 문제 해결 위해 파라미터 설정\n",
    "sns.set(font=font_family, rc={\"axes.unicode_minus\":False})"
   ]
  },
  {
   "cell_type": "markdown",
   "id": "05a70ebb-eaea-49b7-b7da-78e3f495ff0c",
   "metadata": {},
   "source": [
    "## 1.베르누이분포"
   ]
  },
  {
   "cell_type": "code",
   "execution_count": 4,
   "id": "4dca3c4f-1b56-4d94-8ce5-79aa178cfc5d",
   "metadata": {},
   "outputs": [],
   "source": [
    "#베르누이분포 정의\n",
    "mu = 0.7\n",
    "bern = stats.bernoulli(mu)"
   ]
  },
  {
   "cell_type": "code",
   "execution_count": 5,
   "id": "97c9817f-2d6a-4e0b-bf21-50849e71abb4",
   "metadata": {},
   "outputs": [
    {
     "data": {
      "image/png": "[encoded data removed]",
      "text/plain": [
       "<Figure size 432x288 with 1 Axes>"
      ]
     },
     "metadata": {},
     "output_type": "display_data"
    }
   ],
   "source": [
    "# 확률질량함수 계산 및 시각화\n",
    "b_x = [0, 1]\n",
    "bern_pmf = bern.pmf(b_x)\n",
    "\n",
    "# 시각화\n",
    "plt.bar(b_x, bern_pmf)\n",
    "plt.xlim(-1, 2)\n",
    "plt.ylim(0, 1)\n",
    "plt.xticks([0,1],[\"x=0\",\"x=1\"])\n",
    "plt.xlabel(\"표본값\")\n",
    "plt.ylabel(\"P(x)\")\n",
    "plt.title(\"베르누이 확률변수의 확률질량함수\")\n",
    "plt.show()"
   ]
  },
  {
   "cell_type": "code",
   "execution_count": 6,
   "id": "49a83587-e975-4c09-a573-809c8f1aca24",
   "metadata": {},
   "outputs": [
    {
     "data": {
      "text/plain": [
       "array([1, 0, 1, 1, 1, 1, 1, 0, 0, 1, 0, 1, 1, 0, 1, 1, 1, 0, 0, 0, 0, 0,\n",
       "       1, 0, 1, 1, 1, 0, 1, 1, 1, 0, 1, 1, 1, 1, 1, 1, 0, 1, 1, 1, 1, 1,\n",
       "       1, 1, 1, 1, 1, 1, 1, 1, 0, 1, 1, 1, 1, 1, 1, 1, 1, 1, 1, 1, 1, 1,\n",
       "       0, 1, 0, 1, 0, 1, 0, 1, 0, 1, 1, 1, 1, 1, 1, 1, 1, 1, 1, 1, 1, 1,\n",
       "       1, 0, 1, 1, 1, 0, 1, 1, 1, 1, 0, 1])"
      ]
     },
     "execution_count": 6,
     "metadata": {},
     "output_type": "execute_result"
    }
   ],
   "source": [
    "# 베르누이 검정을 위한 베르누이 샘플 100개 생성\n",
    "x_sample_bern = bern.rvs(100, random_state=0)\n",
    "x_sample_bern"
   ]
  },
  {
   "cell_type": "code",
   "execution_count": 8,
   "id": "70dd24ea-5113-4202-ad17-49f27e757d65",
   "metadata": {},
   "outputs": [
    {
     "data": {
      "text/html": [
       "<div>\n",
       "<style scoped>\n",
       "    .dataframe tbody tr th:only-of-type {\n",
       "        vertical-align: middle;\n",
       "    }\n",
       "\n",
       "    .dataframe tbody tr th {\n",
       "        vertical-align: top;\n",
       "    }\n",
       "\n",
       "    .dataframe thead th {\n",
       "        text-align: right;\n",
       "    }\n",
       "</style>\n",
       "<table border=\"1\" class=\"dataframe\">\n",
       "  <thead>\n",
       "    <tr style=\"text-align: right;\">\n",
       "      <th></th>\n",
       "      <th>결과</th>\n",
       "      <th>검증(시뮬레이션)</th>\n",
       "    </tr>\n",
       "  </thead>\n",
       "  <tbody>\n",
       "    <tr>\n",
       "      <th>0</th>\n",
       "      <td>0.3</td>\n",
       "      <td>0.23</td>\n",
       "    </tr>\n",
       "    <tr>\n",
       "      <th>1</th>\n",
       "      <td>0.7</td>\n",
       "      <td>0.77</td>\n",
       "    </tr>\n",
       "  </tbody>\n",
       "</table>\n",
       "</div>"
      ],
      "text/plain": [
       "    결과  검증(시뮬레이션)\n",
       "0  0.3       0.23\n",
       "1  0.7       0.77"
      ]
     },
     "execution_count": 8,
     "metadata": {},
     "output_type": "execute_result"
    }
   ],
   "source": [
    "# 베르누이 시뮬레이션\n",
    "y_bern = np.bincount(x_sample_bern, minlength = 2 ) / float(len(x_sample_bern))\n",
    "\n",
    "df_bern = pd.DataFrame({\"결과\": bern_pmf, \"검증(시뮬레이션)\": y_bern})\n",
    "df_bern.index = [0,1]\n",
    "df_bern"
   ]
  },
  {
   "cell_type": "markdown",
   "id": "7f87fd18-8d6b-4beb-9ff0-305eacf94bc4",
   "metadata": {},
   "source": [
    "## 2. 이항분포"
   ]
  },
  {
   "cell_type": "code",
   "execution_count": 16,
   "id": "095bdddd-0507-42d5-9717-115e01df689d",
   "metadata": {},
   "outputs": [
    {
     "name": "stdout",
     "output_type": "stream",
     "text": [
      "k=3, n=15, p=0.3의 PMF: 0.17004021326428484\n",
      "k=0~4, n=15, p=0.3의 PMF: 0.5154910592268434\n"
     ]
    }
   ],
   "source": [
    "## scipy 이항분포 확률질량함수 계산\n",
    "\n",
    "# 0.3의 확률을 갖는 15회의 실험에서 3회 성공할 확률 반환\n",
    "print(\"k=3, n=15, p=0.3의 PMF:\",stats.binom.pmf(3, n=15, p=0.3))\n",
    "\n",
    "# 0.3의 확률을 갖는 15회의 실험에서 0 ~ 4회 성공할 확률의 누적값 반환\n",
    "print(\"k=0~4, n=15, p=0.3의 PMF:\",stats.binom.cdf(4, n=15, p=0.3))"
   ]
  },
  {
   "cell_type": "code",
   "execution_count": 10,
   "id": "9601998f-0185-43bd-8b6f-69086184c02a",
   "metadata": {},
   "outputs": [],
   "source": [
    "# p의 확률을 갖는 n회의 시행에서 k회 성공할(일어날) 확률을 반환하는 함수 생성\n",
    "def bion_dist(k, n, p):\n",
    "    pmf_bion = stats.binom.pmf(k, n=n, p=p)\n",
    "    return pmf_bion"
   ]
  },
  {
   "cell_type": "code",
   "execution_count": 11,
   "id": "1874e2ab-a085-45e1-bdae-3ee1e2a59f4c",
   "metadata": {},
   "outputs": [
    {
     "data": {
      "image/png": "[encoded data removed]",
      "text/plain": [
       "<Figure size 432x288 with 1 Axes>"
      ]
     },
     "metadata": {},
     "output_type": "display_data"
    }
   ],
   "source": [
    "# 0~15 범위 생성: 성공 횟수\n",
    "x = np.arange(0,16)\n",
    "\n",
    "# 확률질량함수의 값 array\n",
    "pdf_result = [bion_dist(k, 15, 0.3) for k in range(0,16)]\n",
    "\n",
    "#시각화\n",
    "plt.title(\"확률질량함수\")\n",
    "plt.ylim(0, 0.3)\n",
    "plt.text(12.5, 0.28, 'n, p = 15, 0.3')\n",
    "plt.bar(x, pdf_result, color='mediumaquamarine')\n",
    "plt.show()"
   ]
  },
  {
   "cell_type": "markdown",
   "id": "280b374d-911e-4eb5-abc2-3cbf1cf35036",
   "metadata": {},
   "source": [
    "## 3. 포아송분포"
   ]
  },
  {
   "cell_type": "code",
   "execution_count": 23,
   "id": "0d7e2606-1965-4006-b882-5e8f23f81e91",
   "metadata": {},
   "outputs": [
    {
     "data": {
      "text/plain": [
       "0.18044704431548356"
      ]
     },
     "execution_count": 23,
     "metadata": {},
     "output_type": "execute_result"
    }
   ],
   "source": [
    "# scipy 포아송 함수\n",
    "# 3번의 시행에서 평균 사건 수(기대값2)에 대한 발생 확률\n",
    "stats.poisson.pmf(3, 2, loc=0)"
   ]
  },
  {
   "cell_type": "code",
   "execution_count": 29,
   "id": "529dd7fa-60dd-4679-931f-bd10663e7e61",
   "metadata": {},
   "outputs": [],
   "source": [
    "# n번의 시해엥서 평균 사건 수 (기대값, 람다)에 대한 발생 확률 함수\n",
    "def pois_dist(n, lamb):\n",
    "    pmf_poi = stats.poisson.pmf(n, lamb, loc=0)\n",
    "    return pmf_poi"
   ]
  },
  {
   "cell_type": "code",
   "execution_count": 30,
   "id": "37311520-f3b5-4d05-a5fa-a2e26101dfb3",
   "metadata": {},
   "outputs": [],
   "source": [
    "# 확률질량함수의 값 array\n",
    "x = np.arange(0, 41)\n",
    "poi_pdf_result = [pois_dist(n,10) for n in range (0,41)]"
   ]
  },
  {
   "cell_type": "code",
   "execution_count": 31,
   "id": "f54f7afe-532d-4250-863b-8b4874ad4bcc",
   "metadata": {},
   "outputs": [
    {
     "data": {
      "image/png": "[encoded data removed]",
      "text/plain": [
       "<Figure size 432x288 with 1 Axes>"
      ]
     },
     "metadata": {},
     "output_type": "display_data"
    }
   ],
   "source": [
    "# 시각화\n",
    "plt.ylim(0, 0.15)\n",
    "plt.text(33.5,0.14,'람다=10')\n",
    "plt.bar(x, poi_pdf_result)\n",
    "plt.show()"
   ]
  },
  {
   "cell_type": "code",
   "execution_count": 35,
   "id": "ebd2f0d7-33b2-4db8-9502-74645c30d800",
   "metadata": {},
   "outputs": [
    {
     "data": {
      "image/png": "[encoded data removed]",
      "text/plain": [
       "<Figure size 720x720 with 3 Axes>"
      ]
     },
     "metadata": {},
     "output_type": "display_data"
    }
   ],
   "source": [
    "## 기대값에 따른 포아송분포 차이 확인\n",
    "x = np.arange(0, 41)\n",
    "\n",
    "fig = plt.figure(figsize=(10,10))\n",
    "\n",
    "fig.add_subplot(3,1,1)\n",
    "pmf_poin1 = np.array([pois_dist(n, 10) for n in range (0,41)])\n",
    "plt.ylim(0, 0.15)\n",
    "plt.text(33.5, 0.12, '람다 =10')\n",
    "plt.bar(x, pmf_poin1, color='lightcoral')\n",
    "\n",
    "fig.add_subplot(3,1,2)\n",
    "pmf_poin2 = np.array([pois_dist(n, 15) for n in range (0,41)])\n",
    "plt.ylim(0, 0.15)\n",
    "plt.text(33.5, 0.12, '람다 =15')\n",
    "plt.bar(x, pmf_poin2, color='mediumaquamarine')\n",
    "\n",
    "fig.add_subplot(3,1,3)\n",
    "pmf_poin3 = np.array([pois_dist(n, 20) for n in range (0,41)])\n",
    "plt.ylim(0, 0.15)\n",
    "plt.text(33.5, 0.12, '람다 =20')\n",
    "plt.bar(x, pmf_poin3, color='royalblue')\n",
    "plt.show()"
   ]
  }
 ],
 "metadata": {
  "kernelspec": {
   "display_name": "Python 3 (ipykernel)",
   "language": "python",
   "name": "python3"
  },
  "language_info": {
   "codemirror_mode": {
    "name": "ipython",
    "version": 3
   },
   "file_extension": ".py",
   "mimetype": "text/x-python",
   "name": "python",
   "nbconvert_exporter": "python",
   "pygments_lexer": "ipython3",
   "version": "3.9.12"
  }
 },
 "nbformat": 4,
 "nbformat_minor": 5
}
